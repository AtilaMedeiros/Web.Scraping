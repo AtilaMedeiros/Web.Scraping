{
  "nbformat": 4,
  "nbformat_minor": 0,
  "metadata": {
    "colab": {
      "name": "Web Scraping.ipynb",
      "provenance": [],
      "authorship_tag": "ABX9TyM545EcxxnOjFFSbnH417h8",
      "include_colab_link": true
    },
    "kernelspec": {
      "name": "python3",
      "display_name": "Python 3"
    },
    "language_info": {
      "name": "python"
    }
  },
  "cells": [
    {
      "cell_type": "markdown",
      "metadata": {
        "id": "view-in-github",
        "colab_type": "text"
      },
      "source": [
        "<a href=\"https://colab.research.google.com/github/AtilaMedeiros/Web.Scraping/blob/main/Web_Scraping.ipynb\" target=\"_parent\"><img src=\"https://colab.research.google.com/assets/colab-badge.svg\" alt=\"Open In Colab\"/></a>"
      ]
    },
    {
      "cell_type": "markdown",
      "source": [
        "# Importanto Bibliotecas\n"
      ],
      "metadata": {
        "id": "PXV9NPt4nvP4"
      }
    },
    {
      "cell_type": "code",
      "execution_count": 22,
      "metadata": {
        "id": "yqrdFSvtmNBd"
      },
      "outputs": [],
      "source": [
        "from bs4 import BeautifulSoup as bs\n",
        "import requests as rq\n",
        "import re #biblioteca regex"
      ]
    },
    {
      "cell_type": "markdown",
      "source": [
        "# Pegando html do site"
      ],
      "metadata": {
        "id": "3-eYxOtPn-JU"
      }
    },
    {
      "cell_type": "code",
      "source": [
        "#content retorna o conteudo do objeto.\n",
        "#prettify inclui indentação no html, ou seja, formata ele\n",
        "\n",
        "html_completo = rq.get('https://webscraping.andreregino.com.br/')\n",
        "html_formatado = bs(html_completo.content) \n",
        "print(html_formatado.prettify())  "
      ],
      "metadata": {
        "id": "a6we7D90n87d"
      },
      "execution_count": null,
      "outputs": []
    },
    {
      "cell_type": "code",
      "source": [
        "#o find procura no objeto do BeautifulSoup a PRIMEIRA tag H2. Já o text retorna somente o atributo de texto dessa tag\n",
        "primeiro_h2 = html_formatado.find(\"h2\").text \n",
        "print(primeiro_h2)"
      ],
      "metadata": {
        "colab": {
          "base_uri": "https://localhost:8080/"
        },
        "id": "U0-bn1BQpthB",
        "outputId": "81585a59-b9c2-4608-e3a4-0cb2a13a0f4e"
      },
      "execution_count": 28,
      "outputs": [
        {
          "output_type": "stream",
          "name": "stdout",
          "text": [
            "Para que aprender Git?\n"
          ]
        }
      ]
    },
    {
      "cell_type": "markdown",
      "source": [
        "# Pegando conteudo pela tag"
      ],
      "metadata": {
        "id": "xYUCLoHevx3l"
      }
    },
    {
      "cell_type": "code",
      "source": [
        "#retorna das as ocorrencias de h1 e h2 da pagina. observer que o parametro está dentro de uma lista. [\"h2\", \"h1\"]\n",
        "todas_ocorrencias_h2 = html_formatado.find_all([\"h2\", \"h1\"])\n",
        "for ocorrencia_h2 in todas_ocorrencias_h2:\n",
        "  print(ocorrencia_h2.text )"
      ],
      "metadata": {
        "colab": {
          "base_uri": "https://localhost:8080/"
        },
        "id": "3BRTEYtNsTfd",
        "outputId": "079ab08a-58c1-4bd1-9bad-c150b3734932"
      },
      "execution_count": 27,
      "outputs": [
        {
          "output_type": "stream",
          "name": "stdout",
          "text": [
            "\n",
            "\t\t\t\t\t\t    E-book Git e GitHubSeu Código Versionado\n",
            "\t\t\t\t\t    \n",
            "Para que aprender Git?\n",
            "Para que aprender GitHub?\n",
            "Quais os Benefícios deste E-book?\n",
            "Quais os Tópicos?\n",
            "Quais os Tópicos?\n",
            "Para Quem é Esse Livro\n",
            "Quais os Pré Requisitos\n",
            "Reviews\n",
            "Sobre o Autor\n",
            "Investimento\n",
            "4x de R$9,90\n"
          ]
        }
      ]
    },
    {
      "cell_type": "markdown",
      "source": [
        "# Pegando conteudo de class e id\n"
      ],
      "metadata": {
        "id": "YucZgD9At2q0"
      }
    },
    {
      "cell_type": "code",
      "source": [
        "#usamos class_ porque somente class é uma palavra reservada dp python \n",
        "preco = html_formatado.find_all(class_ = \"card-title pricing-card-title\")\n",
        "print(preco)\n",
        "pre_requisito = html_formatado.find(id=\"pre-requisite-section\")\n",
        "print(pre_requisito)"
      ],
      "metadata": {
        "colab": {
          "base_uri": "https://localhost:8080/"
        },
        "id": "KhBDdUVMuCrz",
        "outputId": "065a583a-f77f-44cc-cd66-94d3e5f193c6"
      },
      "execution_count": 26,
      "outputs": [
        {
          "output_type": "stream",
          "name": "stdout",
          "text": [
            "[<h1 class=\"card-title pricing-card-title\"><small class=\"text-muted\">4x de </small><span style=\"color: green\">R$9,90</span></h1>]\n",
            "<section class=\"pre-requisite-section\" id=\"pre-requisite-section\">\n",
            "<div class=\"container\">\n",
            "<div class=\"lead-form-wrapper single-col-max mx-auto theme-bg-light rounded p-5\">\n",
            "<h2 class=\"form-heading text-center\">Quais os Pré Requisitos</h2>\n",
            "<div class=\"form-intro text-center mb-3\">Nenhum, somente sua vontade de aprender.</div>\n",
            "</div><!--//lead-form-wrapper-->\n",
            "</div><!--//container-->\n",
            "</section>\n"
          ]
        }
      ]
    },
    {
      "cell_type": "markdown",
      "source": [
        "# Pegando conteudo com filtro de texto"
      ],
      "metadata": {
        "id": "8LPVys3CvjDe"
      }
    },
    {
      "cell_type": "code",
      "source": [
        "#procure todas as tags h1 e h2 que tenham o text Reviews (case sensitive)\n",
        "todas_ocorrencias_h2 = html_formatado.find_all([\"h2\", \"h1\"], text =  \"Reviews\")\n",
        "for ocorrencia_h2 in todas_ocorrencias_h2:\n",
        "  print(ocorrencia_h2.text )"
      ],
      "metadata": {
        "colab": {
          "base_uri": "https://localhost:8080/"
        },
        "id": "Fif3KLwiviVz",
        "outputId": "145e4400-bb66-44e0-b492-4d9f949ca3df"
      },
      "execution_count": 25,
      "outputs": [
        {
          "output_type": "stream",
          "name": "stdout",
          "text": [
            "Reviews\n"
          ]
        }
      ]
    },
    {
      "cell_type": "markdown",
      "source": [
        "# Agora com Regex"
      ],
      "metadata": {
        "id": "Zq_Vb8NBxAOQ"
      }
    },
    {
      "cell_type": "code",
      "source": [
        "# devido ao regex, ela procura qualquer ocorencia que contenha as palavras \"para que aprender\" sem case sensitive\n",
        "todas_ocorrencias_h2 = html_formatado.find_all([\"h2\", \"h1\"], text =  re.compile(\"Para que aprender\"))\n",
        "for ocorrencia_h2 in todas_ocorrencias_h2:\n",
        "  print(ocorrencia_h2.text )"
      ],
      "metadata": {
        "colab": {
          "base_uri": "https://localhost:8080/"
        },
        "id": "S2Vu6pa_xES_",
        "outputId": "01ea48f7-9400-4e46-e3d8-4122119d585c"
      },
      "execution_count": 24,
      "outputs": [
        {
          "output_type": "stream",
          "name": "stdout",
          "text": [
            "Para que aprender Git?\n",
            "Para que aprender GitHub?\n"
          ]
        }
      ]
    },
    {
      "cell_type": "markdown",
      "source": [
        "# Pegando link de um botão"
      ],
      "metadata": {
        "id": "IAjalEfOyv1F"
      }
    },
    {
      "cell_type": "code",
      "source": [
        "# note que o Beaultisoup retorna somente a tag \"a\" que está dentro da classe \"price\". depois ele acessa somente o atributo \"href\" da classe \"botão (que tem a tag a dentro)\" no qual tem o valor que queremos (o link).\n",
        "# observe que o \"a\" fer um filtro dentre várias outras tags, ja o href fex um filtro dentro da propria tag\n",
        "#.a = filtro entre os resultados (várias tags)\n",
        "#['haref'] = filtro do atributo de um resultado (tag especifica)\n",
        "botao = html_formatado.find(class_ = \"price\").a\n",
        "print(botao['href'])\n",
        " "
      ],
      "metadata": {
        "colab": {
          "base_uri": "https://localhost:8080/"
        },
        "id": "zWdifcF4y0oB",
        "outputId": "b0b5aa25-0b91-49fa-eda0-4ffaaa5122b3"
      },
      "execution_count": 35,
      "outputs": [
        {
          "output_type": "stream",
          "name": "stdout",
          "text": [
            "https://payment.hotmart.com/R54638781B?checkoutMode=10\n"
          ]
        }
      ]
    },
    {
      "cell_type": "markdown",
      "source": [
        "# Pegando a imagem"
      ],
      "metadata": {
        "id": "fxfigHDu2F9o"
      }
    },
    {
      "cell_type": "code",
      "source": [
        "#como o filtro \"img\" retornou somente 1 resultados, usamos o filtro ['src'] para filtrar dentro dessa tag\n",
        "imagem = html_formatado.find(\"img\")\n",
        "print(imagem['src'])"
      ],
      "metadata": {
        "colab": {
          "base_uri": "https://localhost:8080/"
        },
        "id": "i2eyxjMK2LPb",
        "outputId": "3ea13d1e-5600-45ff-c83e-3a2f8bcf7a97"
      },
      "execution_count": 42,
      "outputs": [
        {
          "output_type": "stream",
          "name": "stdout",
          "text": [
            "assets/images/capa-ebook-git-github.png\n"
          ]
        }
      ]
    },
    {
      "cell_type": "markdown",
      "source": [
        "# Pegando Lista"
      ],
      "metadata": {
        "id": "JPh8DU-bOJ5i"
      }
    },
    {
      "cell_type": "code",
      "source": [
        "#prgando primeiro elemento da lista\n",
        "#note que entramos primeiro na section depois na ul para por ultimo na li. no final fizemos o filtro do texto.\n",
        "elemento_da_lista = html_formatado.find(\"section\", class_ = \"content-section\").ul.li\n",
        "print(elemento_da_lista.text)"
      ],
      "metadata": {
        "colab": {
          "base_uri": "https://localhost:8080/"
        },
        "id": "y3wBjBX1OOFj",
        "outputId": "f611ab11-accf-4817-bdf9-d7199860d479"
      },
      "execution_count": 55,
      "outputs": [
        {
          "output_type": "stream",
          "name": "stdout",
          "text": [
            "Instalação do Git e Criação de Conta no GitHub\n"
          ]
        }
      ]
    },
    {
      "cell_type": "code",
      "source": [
        " \n"
      ],
      "metadata": {
        "colab": {
          "base_uri": "https://localhost:8080/"
        },
        "id": "D4liHYdtQ7vy",
        "outputId": "680dd523-28b2-4667-dda3-843ed63fac88"
      },
      "execution_count": 61,
      "outputs": [
        {
          "output_type": "stream",
          "name": "stdout",
          "text": [
            "[<li><i class=\"fas fa-check-circle mr-2\"></i>Lidar com Conflitos e Clonar Projetos Públicos</li>]\n"
          ]
        }
      ]
    }
  ]
}